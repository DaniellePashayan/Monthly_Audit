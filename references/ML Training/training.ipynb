{
 "cells": [
  {
   "cell_type": "markdown",
   "source": [
    "Reads and formats the test data"
   ],
   "metadata": {
    "collapsed": false
   }
  },
  {
   "cell_type": "code",
   "execution_count": 67,
   "outputs": [],
   "source": [
    "from sklearn.tree import DecisionTreeClassifier\n",
    "from sklearn.preprocessing import LabelEncoder\n",
    "from sklearn.model_selection import train_test_split\n",
    "from sklearn.metrics import accuracy_score\n",
    "import pandas as pd\n",
    "import numpy as np\n",
    "\n",
    "test_data = pd.read_csv('C:/Users/dpashayan/PycharmProjects/Monthly_Audit/references/ML Training/training data/training_data.csv')\n",
    "test_data.fillna('0', inplace=True)\n",
    "\n",
    "conversion_dict = {\n",
    "    'PAYER': str,\n",
    "    'Process': str,\n",
    "    'SHS Status': str,\n",
    "    'PIC Desc': str,\n",
    "    'ACK': int,\n",
    "    'Form Letter': int,\n",
    "    'Records': int,\n",
    "    'Status': str,\n",
    "    'Category': str,\n",
    "    'Comment': str\n",
    "}\n",
    "test_data = test_data.astype(conversion_dict)"
   ],
   "metadata": {
    "collapsed": false
   }
  },
  {
   "cell_type": "markdown",
   "source": [
    "Sets up the label encoders and training dataframe"
   ],
   "metadata": {
    "collapsed": false
   }
  },
  {
   "cell_type": "code",
   "execution_count": 68,
   "outputs": [],
   "source": [
    "le_payer = LabelEncoder()\n",
    "le_process = LabelEncoder()\n",
    "le_shs_status = LabelEncoder()\n",
    "le_pic_desc = LabelEncoder()\n",
    "\n",
    "le_status = LabelEncoder()\n",
    "le_category = LabelEncoder()\n",
    "le_comment = LabelEncoder()\n",
    "\n",
    "test_data['payer_n'] = le_payer.fit_transform(test_data['PAYER'])\n",
    "np.save('../ML Training/classes/payer_classes.npy', le_payer.classes_)\n",
    "test_data['process_n'] = le_process.fit_transform(test_data['Process'])\n",
    "np.save('../ML Training/classes/process_classes.npy', le_process.classes_)\n",
    "test_data['shs_status_n'] = le_shs_status.fit_transform(test_data['SHS Status'])\n",
    "np.save('../ML Training/classes/shs_status_classes.npy', le_shs_status.classes_)\n",
    "test_data['pic_desc_n'] = le_pic_desc.fit_transform(test_data['PIC Desc'])\n",
    "np.save('../ML Training/classes/pic_desc_classes.npy', le_pic_desc.classes_)\n",
    "\n",
    "test_data['status_n'] = le_status.fit_transform(test_data['Status'])\n",
    "np.save('../ML Training/classes/status_classes.npy', le_status.classes_)\n",
    "test_data['category_n'] = le_category.fit_transform(test_data['Category'])\n",
    "np.save('../ML Training/classes/category_classes.npy', le_category.classes_)\n",
    "test_data['comment_n'] = le_comment.fit_transform(test_data['Comment'])\n",
    "np.save('../ML Training/classes/comment_classes.npy', le_comment.classes_)\n",
    "\n",
    "training_data = test_data.copy()\n",
    "copy = training_data.copy()"
   ],
   "metadata": {
    "collapsed": false
   }
  },
  {
   "cell_type": "code",
   "execution_count": 69,
   "outputs": [],
   "source": [
    "training_data.drop(training_data.loc[:, 'PAYER':'PIC Desc'], axis='columns', inplace=True)\n",
    "training_data.drop(training_data.loc[:, 'Status':'Comment'], axis='columns', inplace=True)\n",
    "training_data.drop(training_data.loc[:, 'status_n':'comment_n'], axis='columns', inplace=True)\n",
    "\n",
    "X = training_data\n",
    "y = pd.DataFrame(test_data['status_n'])\n",
    "Status = DecisionTreeClassifier()"
   ],
   "metadata": {
    "collapsed": false
   }
  },
  {
   "cell_type": "code",
   "execution_count": 70,
   "outputs": [
    {
     "data": {
      "text/plain": "99.62732919254658"
     },
     "execution_count": 70,
     "metadata": {},
     "output_type": "execute_result"
    }
   ],
   "source": [
    "X_train, X_test, y_train, y_test = train_test_split(X, y, test_size=0.2)\n",
    "Status.fit(X_train, y_train)\n",
    "predictions = Status.predict(X_test)\n",
    "accuracy = accuracy_score(y_test, predictions)\n",
    "accuracy*100"
   ],
   "metadata": {
    "collapsed": false
   }
  },
  {
   "cell_type": "code",
   "execution_count": 71,
   "outputs": [
    {
     "data": {
      "text/plain": "['./models/status_model.joblib']"
     },
     "execution_count": 71,
     "metadata": {},
     "output_type": "execute_result"
    }
   ],
   "source": [
    "import joblib\n",
    "joblib.dump(Status, './models/status_model.joblib')"
   ],
   "metadata": {
    "collapsed": false
   }
  },
  {
   "cell_type": "code",
   "execution_count": 72,
   "outputs": [],
   "source": [
    "training_data = copy.copy()"
   ],
   "metadata": {
    "collapsed": false
   }
  },
  {
   "cell_type": "code",
   "execution_count": 73,
   "outputs": [],
   "source": [
    "y = pd.DataFrame(training_data['category_n'])\n",
    "\n",
    "training_data.drop(training_data.loc[:, 'PAYER':'PIC Desc'], axis='columns', inplace=True)\n",
    "training_data.drop(training_data.loc[:, 'Status':'Comment'], axis='columns', inplace=True)\n",
    "training_data.drop(training_data.loc[:, 'category_n':'comment_n'], axis='columns', inplace=True)\n",
    "\n",
    "X = training_data\n",
    "\n",
    "Category = DecisionTreeClassifier()"
   ],
   "metadata": {
    "collapsed": false
   }
  },
  {
   "cell_type": "code",
   "execution_count": 74,
   "outputs": [
    {
     "data": {
      "text/plain": "99.92546583850933"
     },
     "execution_count": 74,
     "metadata": {},
     "output_type": "execute_result"
    }
   ],
   "source": [
    "X_train, X_test, y_train, y_test = train_test_split(X, y, test_size=0.2)\n",
    "Category.fit(X_train, y_train)\n",
    "predictions = Category.predict(X_test)\n",
    "accuracy = accuracy_score(y_test, predictions)\n",
    "accuracy*100"
   ],
   "metadata": {
    "collapsed": false
   }
  },
  {
   "cell_type": "code",
   "execution_count": 75,
   "outputs": [
    {
     "data": {
      "text/plain": "['./models/category_model.joblib']"
     },
     "execution_count": 75,
     "metadata": {},
     "output_type": "execute_result"
    }
   ],
   "source": [
    "joblib.dump(Category, './models/category_model.joblib')"
   ],
   "metadata": {
    "collapsed": false
   }
  },
  {
   "cell_type": "code",
   "execution_count": 76,
   "outputs": [],
   "source": [
    "training_data = copy.copy()"
   ],
   "metadata": {
    "collapsed": false
   }
  },
  {
   "cell_type": "code",
   "execution_count": 77,
   "outputs": [],
   "source": [
    "y = pd.DataFrame(training_data['comment_n'])\n",
    "\n",
    "training_data.drop(training_data.loc[:, 'PAYER':'PIC Desc'], axis='columns', inplace=True)\n",
    "training_data.drop(training_data.loc[:, 'Status':'Comment'], axis='columns', inplace=True)\n",
    "training_data.drop(['comment_n'], axis='columns', inplace=True)\n",
    "\n",
    "X = training_data\n",
    "\n",
    "Category = DecisionTreeClassifier()"
   ],
   "metadata": {
    "collapsed": false
   }
  },
  {
   "cell_type": "code",
   "execution_count": 78,
   "outputs": [
    {
     "data": {
      "text/plain": "99.95031055900621"
     },
     "execution_count": 78,
     "metadata": {},
     "output_type": "execute_result"
    }
   ],
   "source": [
    "X = training_data\n",
    "\n",
    "Comment = DecisionTreeClassifier()\n",
    "\n",
    "X_train, X_test, y_train, y_test = train_test_split(X, y, test_size = 0.2)\n",
    "Comment.fit(X_train, y_train)\n",
    "predictions = Comment.predict(X_test)\n",
    "accuracy = accuracy_score(y_test, predictions)\n",
    "accuracy * 100"
   ],
   "metadata": {
    "collapsed": false
   }
  },
  {
   "cell_type": "code",
   "execution_count": 79,
   "outputs": [
    {
     "data": {
      "text/plain": "['./models/comment_model.joblib']"
     },
     "execution_count": 79,
     "metadata": {},
     "output_type": "execute_result"
    }
   ],
   "source": [
    "joblib.dump(Comment, './models/comment_model.joblib')"
   ],
   "metadata": {
    "collapsed": false
   }
  },
  {
   "cell_type": "code",
   "execution_count": 79,
   "outputs": [],
   "source": [],
   "metadata": {
    "collapsed": false
   }
  }
 ],
 "metadata": {
  "kernelspec": {
   "display_name": "Python 3",
   "language": "python",
   "name": "python3"
  },
  "language_info": {
   "codemirror_mode": {
    "name": "ipython",
    "version": 2
   },
   "file_extension": ".py",
   "mimetype": "text/x-python",
   "name": "python",
   "nbconvert_exporter": "python",
   "pygments_lexer": "ipython2",
   "version": "2.7.6"
  }
 },
 "nbformat": 4,
 "nbformat_minor": 0
}
