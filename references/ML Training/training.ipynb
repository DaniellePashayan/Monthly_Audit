{
 "cells": [
  {
   "cell_type": "code",
   "execution_count": null,
   "outputs": [],
   "source": [
    "import pandas as pd\n",
    "import numpy as np\n",
    "from sklearn.preprocessing import LabelEncoder\n",
    "import joblib\n",
    "\n",
    "# setup\n",
    "process = 'NonCodify'\n",
    "inputs = pd.read_excel(f'../files/NonCodify/12 - December 2022 Monthly Summary.xlsx', engine='openpyxl')\n",
    "inputs.fillna('0', inplace = True)\n",
    "\n",
    "le_payer = LabelEncoder()\n",
    "le_coding_tool = LabelEncoder()\n",
    "le_shs_status = LabelEncoder()\n",
    "le_pic_desc = LabelEncoder()\n",
    "le_status = LabelEncoder()\n",
    "le_category = LabelEncoder()\n",
    "le_comment = LabelEncoder()\n",
    "\n",
    "le_payer.classes_ = np.load('payer_classes.npy', allow_pickle=True)\n",
    "le_coding_tool.classes_ = np.load('coding_tool_classes.npy', allow_pickle=True)\n",
    "le_shs_status.classes_ = np.load('shs_status_classes.npy', allow_pickle=True)\n",
    "le_pic_desc.classes_ = np.load('pic_desc_classes.npy', allow_pickle=True)\n",
    "le_status.classes_ = np.load('status_classes.npy', allow_pickle=True)\n",
    "le_category.classes_ = np.load('category_classes.npy', allow_pickle=True)\n",
    "le_comment.classes_ = np.load('comment_classes.npy', allow_pickle=True)\n",
    "\n",
    "inputs = inputs.fillna('0')\n",
    "inputs['ACK'] = inputs['ACK'].astype('int64')\n",
    "inputs['Form Letter'] = inputs['Form Letter'].astype('int64')\n",
    "inputs['Proofs'] = inputs['Proofs'].astype('int64')\n",
    "df = inputs[['ACK', 'Form Letter', 'Proofs']]\n",
    "df['payer_n'] = le_payer.transform(inputs['PAYER'])\n",
    "df['coding_tool_n'] = le_coding_tool.transform(inputs['Coding Tool'])\n",
    "df['shs_status_n'] = le_shs_status.transform(inputs['RetrievalStatus'])\n",
    "df['pic_desc_n'] = le_pic_desc.transform(inputs['Name'])\n",
    "\n",
    "status = joblib.load('C:/Users/dpashayan/PycharmProjects/Monthly_Audit/references/ML Training/models/noncodify_audit_status.joblib')\n",
    "category = joblib.load('C:/Users/dpashayan/PycharmProjects/Monthly_Audit/references/ML '\n",
    "                       'Training/models/noncodify_audit_category.joblib')\n",
    "comments = joblib.load('C:/Users/dpashayan/PycharmProjects/Monthly_Audit/references/ML Training/models/noncodify_audit_comment.joblib')"
   ],
   "metadata": {
    "collapsed": false
   }
  },
  {
   "cell_type": "code",
   "execution_count": null,
   "outputs": [],
   "source": [
    "df['status_n'] = status.predict(df)\n",
    "inputs['Status'] = le_status.inverse_transform(df['status_n'])\n",
    "df['category_n'] = category.predict(df)\n",
    "inputs['Category'] = le_category.inverse_transform(df['category_n'])\n",
    "df['comment_n'] = comments.predict(df)\n",
    "inputs['Comments'] = le_comment.inverse_transform(df['comment_n'])"
   ],
   "metadata": {
    "collapsed": false
   }
  },
  {
   "cell_type": "code",
   "execution_count": null,
   "outputs": [],
   "source": [
    "inputs.to_excel('12 - December 2022 Monthly Summary.xlsx')"
   ],
   "metadata": {
    "collapsed": false
   }
  },
  {
   "cell_type": "code",
   "execution_count": null,
   "outputs": [],
   "source": [],
   "metadata": {
    "collapsed": false
   }
  }
 ],
 "metadata": {
  "kernelspec": {
   "display_name": "Python 3",
   "language": "python",
   "name": "python3"
  },
  "language_info": {
   "codemirror_mode": {
    "name": "ipython",
    "version": 2
   },
   "file_extension": ".py",
   "mimetype": "text/x-python",
   "name": "python",
   "nbconvert_exporter": "python",
   "pygments_lexer": "ipython2",
   "version": "2.7.6"
  }
 },
 "nbformat": 4,
 "nbformat_minor": 0
}
