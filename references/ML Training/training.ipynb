{
 "cells": [
  {
   "cell_type": "code",
   "execution_count": 13,
   "outputs": [],
   "source": [
    "import pandas as pd\n",
    "from sklearn.tree import DecisionTreeClassifier\n",
    "from sklearn.preprocessing import LabelEncoder\n",
    "from sklearn.model_selection import train_test_split\n",
    "from sklearn.metrics import accuracy_score\n",
    "import joblib"
   ],
   "metadata": {
    "collapsed": false
   }
  },
  {
   "cell_type": "code",
   "execution_count": 14,
   "outputs": [],
   "source": [
    "inputs = pd.read_csv('../ML Training/training data/medicalrecords_training_data.csv')\n",
    "process = 'medicalrecords'\n",
    "inputs.fillna('0', inplace = True)"
   ],
   "metadata": {
    "collapsed": false
   }
  },
  {
   "cell_type": "code",
   "execution_count": 15,
   "outputs": [],
   "source": [
    "def Category(training_data):\n",
    "    le_payer = LabelEncoder()\n",
    "    le_coding_tool = LabelEncoder()\n",
    "    le_shs_status = LabelEncoder()\n",
    "    le_pic_desc = LabelEncoder()\n",
    "    le_category = LabelEncoder()\n",
    "\n",
    "    training_data['Form Letter'] = training_data['Form Letter'].astype('int64')\n",
    "    training_data['Records'] = training_data['Records'].astype('int64')\n",
    "    training_data['ACK'] = training_data['ACK'].astype('int64')\n",
    "\n",
    "    # converts the values into numbers\n",
    "    training_data['payer_n'] = le_payer.fit_transform(training_data['PAYER'])\n",
    "    training_data['processl_n'] = le_coding_tool.fit_transform(training_data['Process'])\n",
    "    training_data['shs_status_n'] = le_shs_status.fit_transform(training_data['SHS Status'])\n",
    "    training_data['pic_desc_n'] = le_pic_desc.fit_transform(training_data['PIC Desc'])\n",
    "\n",
    "    training = training_data.copy()\n",
    "    training['category_n'] = le_category.fit_transform(training_data['Category'])\n",
    "\n",
    "    training_data = training_data.drop(\n",
    "        columns = ['PAYER', 'Process', 'SHS Status', 'PIC Desc', 'Category', 'Status', 'Comment'], axis = 'columns')\n",
    "    training = training.drop(columns = ['PAYER', 'Process', 'SHS Status', 'PIC Desc', 'Status', 'Comment'], axis = 'columns')\n",
    "\n",
    "    # sets the keys for the data you are feeding it\n",
    "    features = ['PAYER', 'Coding Tool', 'SHS Status', 'PIC Desc', 'Form Letter', 'Records', 'Ack']\n",
    "    model = DecisionTreeClassifier()\n",
    "\n",
    "    X = inputs\n",
    "    y = pd.DataFrame(training['category_n'])\n",
    "\n",
    "    X_train, X_test, y_train, y_test = train_test_split(X, y, test_size = 0.2)\n",
    "\n",
    "    model.fit(X_train, y_train)\n",
    "    predictions = model.predict(X_test)\n",
    "\n",
    "    accuracy = accuracy_score(y_test, predictions)\n",
    "    print(accuracy)\n",
    "\n",
    "    joblib.dump(model, f'../ML Training/models/{process}_audit_category.joblib')"
   ],
   "metadata": {
    "collapsed": false
   }
  },
  {
   "cell_type": "code",
   "execution_count": 16,
   "outputs": [],
   "source": [
    "def Status(training_data):\n",
    "    predict = 'Status'\n",
    "\n",
    "    le_payer = LabelEncoder()\n",
    "    le_coding_tool = LabelEncoder()\n",
    "    le_shs_status = LabelEncoder()\n",
    "    le_pic_desc = LabelEncoder()\n",
    "    le_status = LabelEncoder()\n",
    "\n",
    "    training_data['Form Letter'] = training_data['Form Letter'].astype('int64')\n",
    "    training_data['Proofs'] = training_data['Proofs'].astype('int64')\n",
    "\n",
    "    # converts the values into numbers\n",
    "    training_data['payer_n'] = le_payer.fit_transform(training_data['PAYER'])\n",
    "    training_data['coding_tool_n'] = le_coding_tool.fit_transform(training_data['Coding Tool'])\n",
    "    training_data['shs_status_n'] = le_shs_status.fit_transform(training_data['SHS Status'])\n",
    "    training_data['pic_desc_n'] = le_pic_desc.fit_transform(training_data['PIC Desc'])\n",
    "\n",
    "    training = training_data.copy()\n",
    "    training['status_n'] = le_status.fit_transform(training_data['Status'])\n",
    "\n",
    "    training_data = training_data.drop(columns = ['PAYER', 'Coding Tool', 'SHS Status', 'PIC Desc',\n",
    "                                                  'Category', 'Status', 'Comment', 'Was Charged?',\n",
    "                                                  'Should be Charged?'], axis = 'columns')\n",
    "    training = training.drop(columns = ['PAYER', 'Coding Tool', 'SHS Status', 'PIC Desc', 'Category', 'Comment',\n",
    "                                        'Was Charged?', 'Should be Charged?', ], axis = 'columns')\n",
    "\n",
    "    # sets the keys for the data you are feeding it\n",
    "    features = ['PAYER', 'Coding Tool', 'SHS Status', 'PIC Desc', 'Form Letter', 'Proofs']\n",
    "    model = DecisionTreeClassifier()\n",
    "\n",
    "    X = training_data\n",
    "    y = pd.DataFrame(training['status_n'])\n",
    "\n",
    "    print(X.dtypes)\n",
    "    X_train, X_test, y_train, y_test = train_test_split(X, y, test_size = 0.2)\n",
    "\n",
    "    model.fit(X_train, y_train)\n",
    "    predictions = model.predict(X_test)\n",
    "\n",
    "    accuracy = accuracy_score(y_test, predictions)\n",
    "    print(accuracy)\n",
    "\n",
    "    joblib.dump(model, f'../ML Training/models/{process}_audit_status.joblib')"
   ],
   "metadata": {
    "collapsed": false
   }
  },
  {
   "cell_type": "code",
   "execution_count": 17,
   "outputs": [],
   "source": [
    "def Comment(training_data):\n",
    "    predict = 'Comment'\n",
    "\n",
    "    le_payer = LabelEncoder()\n",
    "    le_coding_tool = LabelEncoder()\n",
    "    le_shs_status = LabelEncoder()\n",
    "    le_pic_desc = LabelEncoder()\n",
    "    le_comment = LabelEncoder()\n",
    "\n",
    "    training_data['Form Letter'] = training_data['Form Letter'].astype('int64')\n",
    "    training_data['Proofs'] = training_data['Proofs'].astype('int64')\n",
    "\n",
    "    # converts the values into numbers\n",
    "    training_data['payer_n'] = le_payer.fit_transform(training_data['PAYER'])\n",
    "    training_data['coding_tool_n'] = le_coding_tool.fit_transform(training_data['Coding Tool'])\n",
    "    training_data['shs_status_n'] = le_shs_status.fit_transform(training_data['SHS Status'])\n",
    "    training_data['pic_desc_n'] = le_pic_desc.fit_transform(training_data['PIC Desc'])\n",
    "\n",
    "    training = training_data.copy()\n",
    "    training['comment_n'] = le_comment.fit_transform(training['Comment'])\n",
    "\n",
    "    training_data = training_data.drop(columns = ['PAYER', 'Coding Tool', 'SHS Status', 'PIC Desc',\n",
    "                                                  'Category', 'Status', 'Comment', 'Was Charged?',\n",
    "                                                  'Should be Charged?'], axis = 'columns')\n",
    "    training = training.drop(columns = ['PAYER', 'Coding Tool', 'SHS Status', 'PIC Desc', 'Category', 'Status',\n",
    "                                        'Was Charged?', 'Should be Charged?', ], axis = 'columns')\n",
    "\n",
    "    # sets the keys for the data you are feeding it\n",
    "    features = ['PAYER', 'Coding Tool', 'SHS Status', 'PIC Desc', 'Form Letter', 'Proofs']\n",
    "    model = DecisionTreeClassifier()\n",
    "\n",
    "    X = training_data\n",
    "    y = pd.DataFrame(training['comment_n'])\n",
    "\n",
    "\n",
    "    X_train, X_test, y_train, y_test = train_test_split(X, y, test_size = 0.2)\n",
    "\n",
    "    model.fit(X_train, y_train)\n",
    "    predictions = model.predict(X_test)\n",
    "\n",
    "    accuracy = accuracy_score(y_test, predictions)\n",
    "    print(accuracy)\n",
    "\n",
    "    result = input('Do you want to save? Y or N')\n",
    "    if result == 'Y':\n",
    "        joblib.dump(model, f'../ML Training/models/{process}_audit_comment.joblib')\n",
    "    elif result == 'N':\n",
    "        Comment(input)"
   ],
   "metadata": {
    "collapsed": false
   }
  },
  {
   "cell_type": "code",
   "execution_count": 18,
   "outputs": [
    {
     "ename": "ValueError",
     "evalue": "could not convert string to float: 'WELLCARE'",
     "output_type": "error",
     "traceback": [
      "\u001B[1;31m---------------------------------------------------------------------------\u001B[0m",
      "\u001B[1;31mValueError\u001B[0m                                Traceback (most recent call last)",
      "Cell \u001B[1;32mIn[18], line 1\u001B[0m\n\u001B[1;32m----> 1\u001B[0m \u001B[43mCategory\u001B[49m\u001B[43m(\u001B[49m\u001B[43minputs\u001B[49m\u001B[43m)\u001B[49m\n",
      "Cell \u001B[1;32mIn[15], line 34\u001B[0m, in \u001B[0;36mCategory\u001B[1;34m(training_data)\u001B[0m\n\u001B[0;32m     30\u001B[0m y \u001B[38;5;241m=\u001B[39m pd\u001B[38;5;241m.\u001B[39mDataFrame(training[\u001B[38;5;124m'\u001B[39m\u001B[38;5;124mcategory_n\u001B[39m\u001B[38;5;124m'\u001B[39m])\n\u001B[0;32m     32\u001B[0m X_train, X_test, y_train, y_test \u001B[38;5;241m=\u001B[39m train_test_split(X, y, test_size \u001B[38;5;241m=\u001B[39m \u001B[38;5;241m0.2\u001B[39m)\n\u001B[1;32m---> 34\u001B[0m \u001B[43mmodel\u001B[49m\u001B[38;5;241;43m.\u001B[39;49m\u001B[43mfit\u001B[49m\u001B[43m(\u001B[49m\u001B[43mX_train\u001B[49m\u001B[43m,\u001B[49m\u001B[43m \u001B[49m\u001B[43my_train\u001B[49m\u001B[43m)\u001B[49m\n\u001B[0;32m     35\u001B[0m predictions \u001B[38;5;241m=\u001B[39m model\u001B[38;5;241m.\u001B[39mpredict(X_test)\n\u001B[0;32m     37\u001B[0m accuracy \u001B[38;5;241m=\u001B[39m accuracy_score(y_test, predictions)\n",
      "File \u001B[1;32m~\\Desktop\\Coding\\Monthly_Audit_2023\\Lib\\site-packages\\sklearn\\tree\\_classes.py:889\u001B[0m, in \u001B[0;36mDecisionTreeClassifier.fit\u001B[1;34m(self, X, y, sample_weight, check_input)\u001B[0m\n\u001B[0;32m    859\u001B[0m \u001B[38;5;28;01mdef\u001B[39;00m \u001B[38;5;21mfit\u001B[39m(\u001B[38;5;28mself\u001B[39m, X, y, sample_weight\u001B[38;5;241m=\u001B[39m\u001B[38;5;28;01mNone\u001B[39;00m, check_input\u001B[38;5;241m=\u001B[39m\u001B[38;5;28;01mTrue\u001B[39;00m):\n\u001B[0;32m    860\u001B[0m \u001B[38;5;250m    \u001B[39m\u001B[38;5;124;03m\"\"\"Build a decision tree classifier from the training set (X, y).\u001B[39;00m\n\u001B[0;32m    861\u001B[0m \n\u001B[0;32m    862\u001B[0m \u001B[38;5;124;03m    Parameters\u001B[39;00m\n\u001B[1;32m   (...)\u001B[0m\n\u001B[0;32m    886\u001B[0m \u001B[38;5;124;03m        Fitted estimator.\u001B[39;00m\n\u001B[0;32m    887\u001B[0m \u001B[38;5;124;03m    \"\"\"\u001B[39;00m\n\u001B[1;32m--> 889\u001B[0m     \u001B[38;5;28;43msuper\u001B[39;49m\u001B[43m(\u001B[49m\u001B[43m)\u001B[49m\u001B[38;5;241;43m.\u001B[39;49m\u001B[43mfit\u001B[49m\u001B[43m(\u001B[49m\n\u001B[0;32m    890\u001B[0m \u001B[43m        \u001B[49m\u001B[43mX\u001B[49m\u001B[43m,\u001B[49m\n\u001B[0;32m    891\u001B[0m \u001B[43m        \u001B[49m\u001B[43my\u001B[49m\u001B[43m,\u001B[49m\n\u001B[0;32m    892\u001B[0m \u001B[43m        \u001B[49m\u001B[43msample_weight\u001B[49m\u001B[38;5;241;43m=\u001B[39;49m\u001B[43msample_weight\u001B[49m\u001B[43m,\u001B[49m\n\u001B[0;32m    893\u001B[0m \u001B[43m        \u001B[49m\u001B[43mcheck_input\u001B[49m\u001B[38;5;241;43m=\u001B[39;49m\u001B[43mcheck_input\u001B[49m\u001B[43m,\u001B[49m\n\u001B[0;32m    894\u001B[0m \u001B[43m    \u001B[49m\u001B[43m)\u001B[49m\n\u001B[0;32m    895\u001B[0m     \u001B[38;5;28;01mreturn\u001B[39;00m \u001B[38;5;28mself\u001B[39m\n",
      "File \u001B[1;32m~\\Desktop\\Coding\\Monthly_Audit_2023\\Lib\\site-packages\\sklearn\\tree\\_classes.py:186\u001B[0m, in \u001B[0;36mBaseDecisionTree.fit\u001B[1;34m(self, X, y, sample_weight, check_input)\u001B[0m\n\u001B[0;32m    184\u001B[0m check_X_params \u001B[38;5;241m=\u001B[39m \u001B[38;5;28mdict\u001B[39m(dtype\u001B[38;5;241m=\u001B[39mDTYPE, accept_sparse\u001B[38;5;241m=\u001B[39m\u001B[38;5;124m\"\u001B[39m\u001B[38;5;124mcsc\u001B[39m\u001B[38;5;124m\"\u001B[39m)\n\u001B[0;32m    185\u001B[0m check_y_params \u001B[38;5;241m=\u001B[39m \u001B[38;5;28mdict\u001B[39m(ensure_2d\u001B[38;5;241m=\u001B[39m\u001B[38;5;28;01mFalse\u001B[39;00m, dtype\u001B[38;5;241m=\u001B[39m\u001B[38;5;28;01mNone\u001B[39;00m)\n\u001B[1;32m--> 186\u001B[0m X, y \u001B[38;5;241m=\u001B[39m \u001B[38;5;28;43mself\u001B[39;49m\u001B[38;5;241;43m.\u001B[39;49m\u001B[43m_validate_data\u001B[49m\u001B[43m(\u001B[49m\n\u001B[0;32m    187\u001B[0m \u001B[43m    \u001B[49m\u001B[43mX\u001B[49m\u001B[43m,\u001B[49m\u001B[43m \u001B[49m\u001B[43my\u001B[49m\u001B[43m,\u001B[49m\u001B[43m \u001B[49m\u001B[43mvalidate_separately\u001B[49m\u001B[38;5;241;43m=\u001B[39;49m\u001B[43m(\u001B[49m\u001B[43mcheck_X_params\u001B[49m\u001B[43m,\u001B[49m\u001B[43m \u001B[49m\u001B[43mcheck_y_params\u001B[49m\u001B[43m)\u001B[49m\n\u001B[0;32m    188\u001B[0m \u001B[43m\u001B[49m\u001B[43m)\u001B[49m\n\u001B[0;32m    189\u001B[0m \u001B[38;5;28;01mif\u001B[39;00m issparse(X):\n\u001B[0;32m    190\u001B[0m     X\u001B[38;5;241m.\u001B[39msort_indices()\n",
      "File \u001B[1;32m~\\Desktop\\Coding\\Monthly_Audit_2023\\Lib\\site-packages\\sklearn\\base.py:549\u001B[0m, in \u001B[0;36mBaseEstimator._validate_data\u001B[1;34m(self, X, y, reset, validate_separately, **check_params)\u001B[0m\n\u001B[0;32m    547\u001B[0m \u001B[38;5;28;01mif\u001B[39;00m \u001B[38;5;124m\"\u001B[39m\u001B[38;5;124mestimator\u001B[39m\u001B[38;5;124m\"\u001B[39m \u001B[38;5;129;01mnot\u001B[39;00m \u001B[38;5;129;01min\u001B[39;00m check_X_params:\n\u001B[0;32m    548\u001B[0m     check_X_params \u001B[38;5;241m=\u001B[39m {\u001B[38;5;241m*\u001B[39m\u001B[38;5;241m*\u001B[39mdefault_check_params, \u001B[38;5;241m*\u001B[39m\u001B[38;5;241m*\u001B[39mcheck_X_params}\n\u001B[1;32m--> 549\u001B[0m X \u001B[38;5;241m=\u001B[39m \u001B[43mcheck_array\u001B[49m\u001B[43m(\u001B[49m\u001B[43mX\u001B[49m\u001B[43m,\u001B[49m\u001B[43m \u001B[49m\u001B[43minput_name\u001B[49m\u001B[38;5;241;43m=\u001B[39;49m\u001B[38;5;124;43m\"\u001B[39;49m\u001B[38;5;124;43mX\u001B[39;49m\u001B[38;5;124;43m\"\u001B[39;49m\u001B[43m,\u001B[49m\u001B[43m \u001B[49m\u001B[38;5;241;43m*\u001B[39;49m\u001B[38;5;241;43m*\u001B[39;49m\u001B[43mcheck_X_params\u001B[49m\u001B[43m)\u001B[49m\n\u001B[0;32m    550\u001B[0m \u001B[38;5;28;01mif\u001B[39;00m \u001B[38;5;124m\"\u001B[39m\u001B[38;5;124mestimator\u001B[39m\u001B[38;5;124m\"\u001B[39m \u001B[38;5;129;01mnot\u001B[39;00m \u001B[38;5;129;01min\u001B[39;00m check_y_params:\n\u001B[0;32m    551\u001B[0m     check_y_params \u001B[38;5;241m=\u001B[39m {\u001B[38;5;241m*\u001B[39m\u001B[38;5;241m*\u001B[39mdefault_check_params, \u001B[38;5;241m*\u001B[39m\u001B[38;5;241m*\u001B[39mcheck_y_params}\n",
      "File \u001B[1;32m~\\Desktop\\Coding\\Monthly_Audit_2023\\Lib\\site-packages\\sklearn\\utils\\validation.py:877\u001B[0m, in \u001B[0;36mcheck_array\u001B[1;34m(array, accept_sparse, accept_large_sparse, dtype, order, copy, force_all_finite, ensure_2d, allow_nd, ensure_min_samples, ensure_min_features, estimator, input_name)\u001B[0m\n\u001B[0;32m    875\u001B[0m         array \u001B[38;5;241m=\u001B[39m xp\u001B[38;5;241m.\u001B[39mastype(array, dtype, copy\u001B[38;5;241m=\u001B[39m\u001B[38;5;28;01mFalse\u001B[39;00m)\n\u001B[0;32m    876\u001B[0m     \u001B[38;5;28;01melse\u001B[39;00m:\n\u001B[1;32m--> 877\u001B[0m         array \u001B[38;5;241m=\u001B[39m \u001B[43m_asarray_with_order\u001B[49m\u001B[43m(\u001B[49m\u001B[43marray\u001B[49m\u001B[43m,\u001B[49m\u001B[43m \u001B[49m\u001B[43morder\u001B[49m\u001B[38;5;241;43m=\u001B[39;49m\u001B[43morder\u001B[49m\u001B[43m,\u001B[49m\u001B[43m \u001B[49m\u001B[43mdtype\u001B[49m\u001B[38;5;241;43m=\u001B[39;49m\u001B[43mdtype\u001B[49m\u001B[43m,\u001B[49m\u001B[43m \u001B[49m\u001B[43mxp\u001B[49m\u001B[38;5;241;43m=\u001B[39;49m\u001B[43mxp\u001B[49m\u001B[43m)\u001B[49m\n\u001B[0;32m    878\u001B[0m \u001B[38;5;28;01mexcept\u001B[39;00m ComplexWarning \u001B[38;5;28;01mas\u001B[39;00m complex_warning:\n\u001B[0;32m    879\u001B[0m     \u001B[38;5;28;01mraise\u001B[39;00m \u001B[38;5;167;01mValueError\u001B[39;00m(\n\u001B[0;32m    880\u001B[0m         \u001B[38;5;124m\"\u001B[39m\u001B[38;5;124mComplex data not supported\u001B[39m\u001B[38;5;130;01m\\n\u001B[39;00m\u001B[38;5;132;01m{}\u001B[39;00m\u001B[38;5;130;01m\\n\u001B[39;00m\u001B[38;5;124m\"\u001B[39m\u001B[38;5;241m.\u001B[39mformat(array)\n\u001B[0;32m    881\u001B[0m     ) \u001B[38;5;28;01mfrom\u001B[39;00m \u001B[38;5;21;01mcomplex_warning\u001B[39;00m\n",
      "File \u001B[1;32m~\\Desktop\\Coding\\Monthly_Audit_2023\\Lib\\site-packages\\sklearn\\utils\\_array_api.py:185\u001B[0m, in \u001B[0;36m_asarray_with_order\u001B[1;34m(array, dtype, order, copy, xp)\u001B[0m\n\u001B[0;32m    182\u001B[0m     xp, _ \u001B[38;5;241m=\u001B[39m get_namespace(array)\n\u001B[0;32m    183\u001B[0m \u001B[38;5;28;01mif\u001B[39;00m xp\u001B[38;5;241m.\u001B[39m\u001B[38;5;18m__name__\u001B[39m \u001B[38;5;129;01min\u001B[39;00m {\u001B[38;5;124m\"\u001B[39m\u001B[38;5;124mnumpy\u001B[39m\u001B[38;5;124m\"\u001B[39m, \u001B[38;5;124m\"\u001B[39m\u001B[38;5;124mnumpy.array_api\u001B[39m\u001B[38;5;124m\"\u001B[39m}:\n\u001B[0;32m    184\u001B[0m     \u001B[38;5;66;03m# Use NumPy API to support order\u001B[39;00m\n\u001B[1;32m--> 185\u001B[0m     array \u001B[38;5;241m=\u001B[39m numpy\u001B[38;5;241m.\u001B[39masarray(array, order\u001B[38;5;241m=\u001B[39morder, dtype\u001B[38;5;241m=\u001B[39mdtype)\n\u001B[0;32m    186\u001B[0m     \u001B[38;5;28;01mreturn\u001B[39;00m xp\u001B[38;5;241m.\u001B[39masarray(array, copy\u001B[38;5;241m=\u001B[39mcopy)\n\u001B[0;32m    187\u001B[0m \u001B[38;5;28;01melse\u001B[39;00m:\n",
      "File \u001B[1;32m~\\Desktop\\Coding\\Monthly_Audit_2023\\Lib\\site-packages\\pandas\\core\\generic.py:2070\u001B[0m, in \u001B[0;36mNDFrame.__array__\u001B[1;34m(self, dtype)\u001B[0m\n\u001B[0;32m   2069\u001B[0m \u001B[38;5;28;01mdef\u001B[39;00m \u001B[38;5;21m__array__\u001B[39m(\u001B[38;5;28mself\u001B[39m, dtype: npt\u001B[38;5;241m.\u001B[39mDTypeLike \u001B[38;5;241m|\u001B[39m \u001B[38;5;28;01mNone\u001B[39;00m \u001B[38;5;241m=\u001B[39m \u001B[38;5;28;01mNone\u001B[39;00m) \u001B[38;5;241m-\u001B[39m\u001B[38;5;241m>\u001B[39m np\u001B[38;5;241m.\u001B[39mndarray:\n\u001B[1;32m-> 2070\u001B[0m     \u001B[38;5;28;01mreturn\u001B[39;00m \u001B[43mnp\u001B[49m\u001B[38;5;241;43m.\u001B[39;49m\u001B[43masarray\u001B[49m\u001B[43m(\u001B[49m\u001B[38;5;28;43mself\u001B[39;49m\u001B[38;5;241;43m.\u001B[39;49m\u001B[43m_values\u001B[49m\u001B[43m,\u001B[49m\u001B[43m \u001B[49m\u001B[43mdtype\u001B[49m\u001B[38;5;241;43m=\u001B[39;49m\u001B[43mdtype\u001B[49m\u001B[43m)\u001B[49m\n",
      "\u001B[1;31mValueError\u001B[0m: could not convert string to float: 'WELLCARE'"
     ]
    }
   ],
   "source": [
    "Category(inputs)"
   ],
   "metadata": {
    "collapsed": false
   }
  },
  {
   "cell_type": "code",
   "execution_count": null,
   "outputs": [],
   "source": [],
   "metadata": {
    "collapsed": false
   }
  }
 ],
 "metadata": {
  "kernelspec": {
   "display_name": "Python 3",
   "language": "python",
   "name": "python3"
  },
  "language_info": {
   "codemirror_mode": {
    "name": "ipython",
    "version": 2
   },
   "file_extension": ".py",
   "mimetype": "text/x-python",
   "name": "python",
   "nbconvert_exporter": "python",
   "pygments_lexer": "ipython2",
   "version": "2.7.6"
  }
 },
 "nbformat": 4,
 "nbformat_minor": 0
}
