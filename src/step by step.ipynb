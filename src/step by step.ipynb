{
 "cells": [
  {
   "cell_type": "code",
   "execution_count": null,
   "outputs": [],
   "source": [
    "import pandas as pd\n",
    "import numpy as np\n",
    "from configparser import ConfigParser\n",
    "import datetime as dt\n",
    "from os.path import exists\n",
    "\n",
    "config_path = 'config.ini'\n",
    "config = ConfigParser()\n",
    "config.read(config_path)\n",
    "\n",
    "Month = config['Parameters']['Month']\n",
    "Year = config['Parameters']['Year']\n",
    "Month_Name = dt.datetime.strptime(str(Month), '%m').strftime('%B')\n",
    "\n",
    "process = 'Medical Records'\n",
    "\n",
    "inputs = (config[process]['InputFileOutputPath'] + config[process]['ETMOutputNamingConvention']).replace('MMMM', Month_Name).replace('MM', Month).replace('YYYY', Year)\n",
    "outputs = (config[process]['OutputFileOutputPath'] + config[process]['OutputFileNamingConvention']).replace('MMMM',\n",
    "                                                                                                       Month_Name).replace('MM', Month).replace('YYYY', Year)\n",
    "shs = config[process]['SHSFullFile'].replace('MMMM',Month_Name).replace('MM', Month).replace('YYYY', Year)\n",
    "pics = config[process]['PICfile'].replace('MMMM', Month_Name).replace('MM', Month).replace('YYYY', Year)\n",
    "\n",
    "if exists('test.xlsx'):\n",
    "    df = pd.read_excel('test.xlsx', engine = 'openpyxl')\n",
    "else:\n",
    "    inputs = pd.read_excel(inputs, engine='openpyxl')\n",
    "    outputs = pd.read_excel(outputs, engine='openpyxl')\n",
    "    shs = pd.read_excel(shs, engine = 'openpyxl', usecols=['INVNUM', 'Reason', 'BotName', 'RetrievalStatus', 'RetrievalDescription','BOTRequestDate', 'LastModifiedDate'])\n",
    "    pics = pd.read_csv(pics, sep = '\\t', header=None)\n",
    "\n",
    "    bot_names = config[process]['SHSBotName'].split(',')\n",
    "    corr_pics = config[process]['CorrPICs'].split(',')\n",
    "    shs = shs[shs['BotName'].isin(bot_names)]\n",
    "    shs['BOTRequestDate'] = pd.to_datetime(shs['BOTRequestDate'])\n",
    "    shs['BOTRequestDate'] = pd.to_datetime(shs['BOTRequestDate']).dt.date\n",
    "    shs['LastModifiedDate'] = pd.to_datetime(shs['LastModifiedDate'])\n",
    "    shs['LastModifiedDate'] = pd.to_datetime(shs['LastModifiedDate']).dt.date\n",
    "\n",
    "\n",
    "    pics.drop(columns=[1,2,3,4], inplace=True)\n",
    "    pics.columns = ['Invoice', 'Post Date', 'Code']\n",
    "    pics['Post Date'] = pd.to_datetime(pics['Post Date'])\n",
    "    pic_desc = pd.read_excel('C:/Users/dpashayan/PycharmProjects/Monthly_Audit/references/Dictionary 6 - RPA Only '\n",
    "                             'Rejections.xlsx', engine='openpyxl')\n",
    "    pics = pics[pics['Code'].isin(corr_pics)]\n",
    "    pics = pics.merge(pic_desc, how='left')\n",
    "    conditions = [\n",
    "        inputs['Process'] == 'AllScripts',\n",
    "        inputs['Process'] == 'O&C',\n",
    "        inputs['Process'] =='Powersign',\n",
    "        inputs['Process'] == 'Sunrise'\n",
    "    ]\n",
    "\n",
    "    inputs['SHS Name'] = np.select(conditions, bot_names)\n",
    "    shs['LastModifiedDate'] = pd.to_datetime(shs['LastModifiedDate'])\n",
    "    shs['BOTRequestDate'] = pd.to_datetime(shs['BOTRequestDate'])\n",
    "    df = pd.merge(inputs, shs, how='left',\n",
    "                  left_on = ['INVNUM', 'File Date', 'SHS Name'],\n",
    "                  right_on=['INVNUM', 'BOTRequestDate', 'BotName'])\n",
    "    df = pd.merge(df, pics, how='left',\n",
    "                  left_on = ['INVNUM'],\n",
    "                  right_on=['Invoice'])\n",
    "    outputs['Process'] = outputs['Process'].str.strip()\n",
    "    df = pd.merge(df, outputs, how='left',\n",
    "                  left_on = ['INVNUM', 'File Date', 'Process'],\n",
    "                  right_on = ['Invoice', 'File Date', 'Process'])\n",
    "    cond = [(df['Code'].isnull()),\n",
    "            (~(df['Code'].isnull())) &\n",
    "            (df['Post Date'] >= df['BOTRequestDate']) &\n",
    "            (df['Post Date'] <= df['LastModifiedDate'])\n",
    "            ]\n",
    "    values = [True, True]\n",
    "    df['Keep'] = np.select(cond, values, False)\n",
    "    df.drop(columns=['SHS Name', 'Invoice_x', 'Invoice_y', 'Keep'], inplace=True)\n",
    "    df.to_excel('test.xlsx')"
   ],
   "metadata": {
    "collapsed": false,
    "pycharm": {
     "is_executing": true
    }
   }
  },
  {
   "cell_type": "code",
   "execution_count": 3,
   "outputs": [],
   "source": [
    "data = df.copy()\n",
    "df = data[['ACK', 'Form Letter', 'Records']]\n",
    "df = df.fillna(0)\n",
    "data = data.fillna('0').astype('str')\n",
    "\n",
    "df['ACK'] = df['ACK'].astype('int64')\n",
    "df['Form Letter'] = df['Form Letter'].astype('int64')\n",
    "df['Records'] = df['Records'].astype('int64')"
   ],
   "metadata": {
    "collapsed": false
   }
  },
  {
   "cell_type": "code",
   "execution_count": 4,
   "outputs": [],
   "source": [
    "from sklearn.preprocessing import LabelEncoder\n",
    "import joblib\n",
    "\n",
    "le_payer = LabelEncoder()\n",
    "le_process = LabelEncoder()\n",
    "le_shs_status = LabelEncoder()\n",
    "le_pic_desc = LabelEncoder()\n",
    "\n",
    "le_status = LabelEncoder()\n",
    "le_category = LabelEncoder()\n",
    "le_comment = LabelEncoder()\n",
    "\n",
    "le_payer.classes_ = np.load('../references/ML Training/classes/payer_classes.npy', allow_pickle=True)\n",
    "le_process.classes_ = np.load('../references/ML Training/classes/process_classes.npy', allow_pickle=True)\n",
    "le_shs_status.classes_ = np.load('../references/ML Training/classes/shs_status_classes.npy', allow_pickle=True)\n",
    "le_pic_desc.classes_ = np.load('../references/ML Training/classes/pic_desc_classes.npy', allow_pickle=True)\n",
    "\n",
    "le_status.classes_ = np.load('../references/ML Training/classes/status_classes.npy', allow_pickle=True)\n",
    "le_category.classes_ = np.load('../references/ML Training/classes/category_classes.npy', allow_pickle=True)\n",
    "le_comment.classes_ = np.load('../references/ML Training/classes/comment_classes.npy', allow_pickle=True)"
   ],
   "metadata": {
    "collapsed": false
   }
  },
  {
   "cell_type": "code",
   "execution_count": 5,
   "outputs": [],
   "source": [
    "df['payer_n'] = le_payer.transform(data['PAYER'])\n",
    "df['process_n'] = le_process.transform(data['Process'])\n",
    "df['shs_status_n'] = le_shs_status.transform(data['RetrievalStatus'])\n",
    "df['pic_desc_n'] = le_pic_desc.transform(data['Name'])"
   ],
   "metadata": {
    "collapsed": false
   }
  },
  {
   "cell_type": "code",
   "execution_count": 6,
   "outputs": [],
   "source": [
    "copy = df.copy()"
   ],
   "metadata": {
    "collapsed": false
   }
  },
  {
   "cell_type": "code",
   "execution_count": 7,
   "outputs": [],
   "source": [
    "status = joblib.load('C:/Users/dpashayan/PycharmProjects/Monthly_Audit/references/ML Training/models/status_model.joblib')"
   ],
   "metadata": {
    "collapsed": false
   }
  },
  {
   "cell_type": "code",
   "execution_count": 8,
   "outputs": [],
   "source": [
    "df['status_n'] = status.predict(df)\n",
    "data['Status'] = le_status.inverse_transform(df['status_n'])"
   ],
   "metadata": {
    "collapsed": false
   }
  },
  {
   "cell_type": "code",
   "execution_count": 9,
   "outputs": [],
   "source": [
    "copy = df.copy()"
   ],
   "metadata": {
    "collapsed": false
   }
  },
  {
   "cell_type": "code",
   "execution_count": 12,
   "outputs": [],
   "source": [
    "category = joblib.load('C:/Users/dpashayan/PycharmProjects/Monthly_Audit/references/ML Training/models/category_model.joblib')"
   ],
   "metadata": {
    "collapsed": false
   }
  },
  {
   "cell_type": "code",
   "execution_count": 13,
   "outputs": [],
   "source": [
    "df['category_n'] = category.predict(df)\n",
    "data['Category'] = le_category.inverse_transform(df['category_n'])"
   ],
   "metadata": {
    "collapsed": false
   }
  },
  {
   "cell_type": "code",
   "execution_count": 14,
   "outputs": [],
   "source": [
    "comments = joblib.load('C:/Users/dpashayan/PycharmProjects/Monthly_Audit/references/ML Training/models/comment_model.joblib')"
   ],
   "metadata": {
    "collapsed": false
   }
  },
  {
   "cell_type": "code",
   "execution_count": 15,
   "outputs": [],
   "source": [
    "df['comment_n'] = comments.predict(df)\n",
    "data['Comments'] = le_comment.inverse_transform(df['comment_n'])"
   ],
   "metadata": {
    "collapsed": false
   }
  },
  {
   "cell_type": "code",
   "execution_count": 16,
   "outputs": [],
   "source": [
    "\"\"\"\n",
    "TODO:\n",
    "INVNUM > Invoice\n",
    "BOTRequestDate > SHS Start\n",
    "LastModifiedDate > SHS End\n",
    "RetrievalStatus > SHS Status\n",
    "RetrievalDescription > Retrieval Description\n",
    "BotName drop\n",
    "Post Date > PIC Date\n",
    "Code > PIC Code\n",
    "Name > PIC Desc\n",
    "Add Folder Date = SHS Start\n",
    "Proof > Proofs\n",
    "\"\"\"\n",
    "data = data.rename(\n",
    "    {'INVNUM': 'Invoice',\n",
    "    'BOTRequestDate': 'SHS Start',\n",
    "    'LastModifiedDate': 'SHS End',\n",
    "    'RetrievalStatus': 'SHS Status',\n",
    "    'RetrievalDescription': 'Retrieval Description',\n",
    "    'Post Date': 'PIC Date',\n",
    "    'Code' : 'PIC Code',\n",
    "    'Name' : 'PIC Desc',\n",
    "    'Proof': 'Proofs'}, axis = 'columns'\n",
    "          )"
   ],
   "metadata": {
    "collapsed": false
   }
  },
  {
   "cell_type": "code",
   "execution_count": 17,
   "outputs": [],
   "source": [
    "data.drop(columns='BotName', axis='columns', inplace=True)"
   ],
   "metadata": {
    "collapsed": false
   }
  },
  {
   "cell_type": "code",
   "execution_count": 18,
   "outputs": [],
   "source": [
    "config_path = 'config.ini'\n",
    "config = ConfigParser()\n",
    "config.read(config_path)\n",
    "\n",
    "Month = config['Parameters']['Month']\n",
    "Year = config['Parameters']['Year']\n",
    "Month_Name = dt.datetime.strptime(str(Month), '%m').strftime('%B')"
   ],
   "metadata": {
    "collapsed": false
   }
  },
  {
   "cell_type": "code",
   "execution_count": 19,
   "outputs": [],
   "source": [
    "output_path = (f'{config[process][\"MonthlySummaryPath\"]}/{Year} {Month} - Medical Records Summary.xlsx')\n",
    "output_path = output_path.replace('MMMM',Month_Name).replace('MM', Month).replace('YYYY', Year)"
   ],
   "metadata": {
    "collapsed": false
   }
  },
  {
   "cell_type": "code",
   "execution_count": 20,
   "outputs": [],
   "source": [
    "data.to_excel(output_path, index=None)"
   ],
   "metadata": {
    "collapsed": false
   }
  },
  {
   "cell_type": "code",
   "execution_count": null,
   "outputs": [],
   "source": [],
   "metadata": {
    "collapsed": false
   }
  }
 ],
 "metadata": {
  "kernelspec": {
   "display_name": "Python 3",
   "language": "python",
   "name": "python3"
  },
  "language_info": {
   "codemirror_mode": {
    "name": "ipython",
    "version": 2
   },
   "file_extension": ".py",
   "mimetype": "text/x-python",
   "name": "python",
   "nbconvert_exporter": "python",
   "pygments_lexer": "ipython2",
   "version": "2.7.6"
  }
 },
 "nbformat": 4,
 "nbformat_minor": 0
}
