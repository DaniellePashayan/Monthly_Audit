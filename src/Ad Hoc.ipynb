{
 "cells": [
  {
   "cell_type": "code",
   "execution_count": 40,
   "outputs": [],
   "source": [
    "import pandas as pd\n",
    "import numpy as np\n",
    "import sklearn\n",
    "\n",
    "inputs = 'C:/Users/dpashayan/PycharmProjects/Monthly_Audit/references/files/NonCodify/12 - December 2022 Combined Inputs.xlsx'\n",
    "outputs = 'C:/Users/dpashayan/PycharmProjects/Monthly_Audit/references/files/NonCodify/12 - December 2022 - Combined Outputs.xlsx'\n",
    "pics = 'C:/Users/dpashayan/PycharmProjects/Monthly_Audit/references/files/12 - December 2022 All PICs.txt'\n",
    "shs = 'C:/Users/dpashayan/PycharmProjects/Monthly_Audit/references/files/Sutherland.xlsx'\n",
    "\n",
    "inputs = pd.read_excel(inputs, engine='openpyxl')\n",
    "outputs = pd.read_excel(outputs, engine='openpyxl')\n",
    "shs = pd.read_excel(shs, engine = 'openpyxl')\n",
    "pics = pd.read_csv(pics, sep = '\\t', header=None)\n",
    "pics.drop(columns=[1,2,3,4], inplace=True)\n",
    "pics.columns = ['Invoice', 'Post Date', 'Code']\n",
    "pics['Post Date'] = pd.to_datetime(pics['Post Date'])\n",
    "pic_desc = pd.read_excel('C:/Users/dpashayan/PycharmProjects/Monthly_Audit/references/Dictionary 6 - RPA Only '\n",
    "                         'Rejections.xlsx', engine='openpyxl')\n",
    "pics = pics.merge(pic_desc, how='left')\n",
    "pics = pics[pics['Bot Name'].str.contains('Bundling')]\n",
    "df = pd.merge(inputs, shs, how='left',\n",
    "              left_on = ['INVNUM', 'File Date', 'SHS Name'],\n",
    "              right_on=['INVNUM', 'BOTRequestDate', 'BotName'])\n",
    "df = pd.merge(df, pics, how='left',\n",
    "              left_on = ['INVNUM', 'LastModifiedDate'],\n",
    "              right_on = ['Invoice', 'Post Date'])"
   ],
   "metadata": {
    "collapsed": false
   }
  },
  {
   "cell_type": "code",
   "execution_count": 41,
   "outputs": [],
   "source": [
    "outputs['Process'] = outputs['Process'].str.strip()\n",
    "df = pd.merge(df, outputs, how='left',\n",
    "              left_on = ['INVNUM', 'File Date', 'Coding Tool'],\n",
    "              right_on = ['Invoice', 'File Date', 'Process'])\n",
    "df.drop(columns=['SHS Name', 'Invoice_x', 'Bot Type', 'Bot Name', 'Invoice_y', 'Process'], inplace=True)"
   ],
   "metadata": {
    "collapsed": false
   }
  },
  {
   "cell_type": "code",
   "execution_count": 43,
   "outputs": [],
   "source": [
    "inputs = ''\n",
    "outputs = ''\n",
    "shs = ''\n",
    "pic_desc = ''\n",
    "pics = ''\n",
    "data = df.copy()\n",
    "df = ''"
   ],
   "metadata": {
    "collapsed": false
   }
  },
  {
   "cell_type": "code",
   "execution_count": 45,
   "outputs": [],
   "source": [
    "from sklearn.preprocessing import LabelEncoder\n",
    "\n",
    "le_payer = LabelEncoder()\n",
    "le_coding_tool = LabelEncoder()\n",
    "le_shs_status = LabelEncoder()\n",
    "le_pic_desc = LabelEncoder()\n",
    "le_category = LabelEncoder()\n",
    "le_status = LabelEncoder()\n",
    "le_comment = LabelEncoder()"
   ],
   "metadata": {
    "collapsed": false
   }
  },
  {
   "cell_type": "code",
   "execution_count": 63,
   "outputs": [],
   "source": [
    "df = data[['ACK', 'Form Letter', 'Proof']]\n",
    "df = df.rename({'Proof': 'Proofs'}, axis='columns')\n",
    "df = df.fillna(0)"
   ],
   "metadata": {
    "collapsed": false
   }
  },
  {
   "cell_type": "code",
   "execution_count": 64,
   "outputs": [],
   "source": [
    "df['ACK'] = df['ACK'].astype('int64')\n",
    "df['Form Letter'] = df['Form Letter'].astype('int64')\n",
    "df['Proofs'] = df['Proofs'].astype('int64')\n",
    "\n",
    "df['payer_n'] = le_payer.fit_transform(data['PAYER'])\n",
    "df['coding_tool_n'] = le_coding_tool.fit_transform(data['Coding Tool'])\n",
    "df['shs_status_n'] = le_shs_status.fit_transform(data['RetrievalStatus'])\n",
    "df['pic_desc_n'] = le_shs_status.fit_transform(data['Name'])"
   ],
   "metadata": {
    "collapsed": false
   }
  },
  {
   "cell_type": "code",
   "execution_count": 72,
   "outputs": [],
   "source": [
    "import joblib\n",
    "\n",
    "model = joblib.load('C:/Users/dpashayan/PycharmProjects/Monthly_Audit/references/ML Training/models/noncodify_audit_status.joblib')"
   ],
   "metadata": {
    "collapsed": false
   }
  },
  {
   "cell_type": "code",
   "execution_count": 73,
   "outputs": [
    {
     "ename": "NotFittedError",
     "evalue": "This LabelEncoder instance is not fitted yet. Call 'fit' with appropriate arguments before using this estimator.",
     "output_type": "error",
     "traceback": [
      "\u001B[1;31m---------------------------------------------------------------------------\u001B[0m",
      "\u001B[1;31mNotFittedError\u001B[0m                            Traceback (most recent call last)",
      "Cell \u001B[1;32mIn[73], line 1\u001B[0m\n\u001B[1;32m----> 1\u001B[0m predictions \u001B[38;5;241m=\u001B[39m \u001B[43mle_status\u001B[49m\u001B[38;5;241;43m.\u001B[39;49m\u001B[43minverse_transform\u001B[49m\u001B[43m(\u001B[49m\u001B[43mmodel\u001B[49m\u001B[38;5;241;43m.\u001B[39;49m\u001B[43mpredict\u001B[49m\u001B[43m(\u001B[49m\u001B[43mdf\u001B[49m\u001B[43m)\u001B[49m\u001B[43m)\u001B[49m\n",
      "File \u001B[1;32m~\\Desktop\\Coding\\Python\\Lib\\site-packages\\sklearn\\preprocessing\\_label.py:154\u001B[0m, in \u001B[0;36mLabelEncoder.inverse_transform\u001B[1;34m(self, y)\u001B[0m\n\u001B[0;32m    141\u001B[0m \u001B[38;5;28;01mdef\u001B[39;00m \u001B[38;5;21minverse_transform\u001B[39m(\u001B[38;5;28mself\u001B[39m, y):\n\u001B[0;32m    142\u001B[0m \u001B[38;5;250m    \u001B[39m\u001B[38;5;124;03m\"\"\"Transform labels back to original encoding.\u001B[39;00m\n\u001B[0;32m    143\u001B[0m \n\u001B[0;32m    144\u001B[0m \u001B[38;5;124;03m    Parameters\u001B[39;00m\n\u001B[1;32m   (...)\u001B[0m\n\u001B[0;32m    152\u001B[0m \u001B[38;5;124;03m        Original encoding.\u001B[39;00m\n\u001B[0;32m    153\u001B[0m \u001B[38;5;124;03m    \"\"\"\u001B[39;00m\n\u001B[1;32m--> 154\u001B[0m     \u001B[43mcheck_is_fitted\u001B[49m\u001B[43m(\u001B[49m\u001B[38;5;28;43mself\u001B[39;49m\u001B[43m)\u001B[49m\n\u001B[0;32m    155\u001B[0m     y \u001B[38;5;241m=\u001B[39m column_or_1d(y, warn\u001B[38;5;241m=\u001B[39m\u001B[38;5;28;01mTrue\u001B[39;00m)\n\u001B[0;32m    156\u001B[0m     \u001B[38;5;66;03m# inverse transform of empty array is empty array\u001B[39;00m\n",
      "File \u001B[1;32m~\\Desktop\\Coding\\Python\\Lib\\site-packages\\sklearn\\utils\\validation.py:1380\u001B[0m, in \u001B[0;36mcheck_is_fitted\u001B[1;34m(estimator, attributes, msg, all_or_any)\u001B[0m\n\u001B[0;32m   1375\u001B[0m     fitted \u001B[38;5;241m=\u001B[39m [\n\u001B[0;32m   1376\u001B[0m         v \u001B[38;5;28;01mfor\u001B[39;00m v \u001B[38;5;129;01min\u001B[39;00m \u001B[38;5;28mvars\u001B[39m(estimator) \u001B[38;5;28;01mif\u001B[39;00m v\u001B[38;5;241m.\u001B[39mendswith(\u001B[38;5;124m\"\u001B[39m\u001B[38;5;124m_\u001B[39m\u001B[38;5;124m\"\u001B[39m) \u001B[38;5;129;01mand\u001B[39;00m \u001B[38;5;129;01mnot\u001B[39;00m v\u001B[38;5;241m.\u001B[39mstartswith(\u001B[38;5;124m\"\u001B[39m\u001B[38;5;124m__\u001B[39m\u001B[38;5;124m\"\u001B[39m)\n\u001B[0;32m   1377\u001B[0m     ]\n\u001B[0;32m   1379\u001B[0m \u001B[38;5;28;01mif\u001B[39;00m \u001B[38;5;129;01mnot\u001B[39;00m fitted:\n\u001B[1;32m-> 1380\u001B[0m     \u001B[38;5;28;01mraise\u001B[39;00m NotFittedError(msg \u001B[38;5;241m%\u001B[39m {\u001B[38;5;124m\"\u001B[39m\u001B[38;5;124mname\u001B[39m\u001B[38;5;124m\"\u001B[39m: \u001B[38;5;28mtype\u001B[39m(estimator)\u001B[38;5;241m.\u001B[39m\u001B[38;5;18m__name__\u001B[39m})\n",
      "\u001B[1;31mNotFittedError\u001B[0m: This LabelEncoder instance is not fitted yet. Call 'fit' with appropriate arguments before using this estimator."
     ]
    }
   ],
   "source": [
    "predictions = le_status.inverse_transform(model.predict(df))"
   ],
   "metadata": {
    "collapsed": false
   }
  },
  {
   "cell_type": "code",
   "execution_count": null,
   "outputs": [],
   "source": [],
   "metadata": {
    "collapsed": false
   }
  }
 ],
 "metadata": {
  "kernelspec": {
   "display_name": "Python 3",
   "language": "python",
   "name": "python3"
  },
  "language_info": {
   "codemirror_mode": {
    "name": "ipython",
    "version": 2
   },
   "file_extension": ".py",
   "mimetype": "text/x-python",
   "name": "python",
   "nbconvert_exporter": "python",
   "pygments_lexer": "ipython2",
   "version": "2.7.6"
  }
 },
 "nbformat": 4,
 "nbformat_minor": 0
}
