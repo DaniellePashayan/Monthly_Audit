{
 "cells": [
  {
   "cell_type": "code",
   "execution_count": 14,
   "outputs": [],
   "source": [
    "import pandas as pd\n",
    "import datetime as dt\n",
    "from configparser import ConfigParser"
   ],
   "metadata": {
    "collapsed": false
   }
  },
  {
   "cell_type": "code",
   "execution_count": 15,
   "outputs": [],
   "source": [
    "process = 'NonCodify'\n",
    "\n",
    "config_path = 'C:/Users/dpashayan/PycharmProjects/Monthly_Audit_2023/Monthly-Audit-2.0/src/config.ini'\n",
    "config = ConfigParser()\n",
    "config.read(config_path)\n",
    "\n",
    "Month = config['Parameters']['Month']\n",
    "Year = config['Parameters']['Year']\n",
    "Month_Name = dt.datetime.strptime(str(Month), '%m').strftime('%B')\n",
    "SHS_file = config[process]['SHSFullFile'].replace('MMMM', Month_Name).replace('YYYY', Year).replace('MM', Month)\n",
    "process_list = config[process]['SHSBotName'].strip().split(',')"
   ],
   "metadata": {
    "collapsed": false
   }
  },
  {
   "cell_type": "code",
   "execution_count": 16,
   "outputs": [],
   "source": [
    "SHS_file = config[process]['SHSFullFile'].replace('MMMM', Month_Name).replace('YYYY', Year).replace('MM', Month)"
   ],
   "metadata": {
    "collapsed": false
   }
  },
  {
   "cell_type": "code",
   "execution_count": 17,
   "outputs": [
    {
     "name": "stdout",
     "output_type": "stream",
     "text": [
      "Formatting Sutherland file for NonCodify\n"
     ]
    }
   ],
   "source": [
    "print(f'Formatting Sutherland file for {process}')\n",
    "SHS_file = pd.read_excel(SHS_file, engine='openpyxl', usecols=['INVNUM', 'Reason', 'BotName', 'RetrievalStatus', 'RetrievalDescription', 'BOTRequestDate',\n",
    "                     'LastModifiedDate'])"
   ],
   "metadata": {
    "collapsed": false
   }
  },
  {
   "cell_type": "code",
   "execution_count": 18,
   "outputs": [
    {
     "data": {
      "text/plain": "array(['ECHO', 'TES1249', 'TES6146', 'Charge Correction', 'TPLAlert',\n       'AllScripts', 'Sunrise', 'BCBS Secure Messaging',\n       'Claim Scrubber Edit 1235', 'McKesson', 'Codify',\n       'MedicaidPending', 'PowerSign', 'Medicare Not Primary',\n       'UHC Bundling', 'BCBS - ClearClaimConnection', 'SPNI'],\n      dtype=object)"
     },
     "execution_count": 18,
     "metadata": {},
     "output_type": "execute_result"
    }
   ],
   "source": [
    "SHS_file['BotName'].unique()"
   ],
   "metadata": {
    "collapsed": false
   }
  },
  {
   "cell_type": "code",
   "execution_count": 19,
   "outputs": [],
   "source": [
    "SHS_file['BOTRequestDate'] = pd.to_datetime(SHS_file['BOTRequestDate'], format='%m/%d/%Y %I:%M:%S %p')\n",
    "SHS_file['BOTRequestDate'] = SHS_file['BOTRequestDate'].dt.date\n",
    "SHS_file['LastModifiedDate'] = SHS_file['LastModifiedDate'].dt.date"
   ],
   "metadata": {
    "collapsed": false
   }
  },
  {
   "cell_type": "code",
   "execution_count": 20,
   "outputs": [],
   "source": [
    "SHS_file = SHS_file[SHS_file['BotName'].isin(process_list)]"
   ],
   "metadata": {
    "collapsed": false
   }
  },
  {
   "cell_type": "code",
   "execution_count": 21,
   "outputs": [
    {
     "data": {
      "text/plain": "array(['McKesson', 'UHC Bundling', 'BCBS - ClearClaimConnection'],\n      dtype=object)"
     },
     "execution_count": 21,
     "metadata": {},
     "output_type": "execute_result"
    }
   ],
   "source": [
    "SHS_file['BotName'].unique()"
   ],
   "metadata": {
    "collapsed": false
   }
  },
  {
   "cell_type": "code",
   "execution_count": 22,
   "outputs": [],
   "source": [
    "SHS_file.to_excel('Sutherland.xlsx', index=None)"
   ],
   "metadata": {
    "collapsed": false
   }
  },
  {
   "cell_type": "code",
   "execution_count": 22,
   "outputs": [],
   "source": [],
   "metadata": {
    "collapsed": false
   }
  }
 ],
 "metadata": {
  "kernelspec": {
   "display_name": "Python 3",
   "language": "python",
   "name": "python3"
  },
  "language_info": {
   "codemirror_mode": {
    "name": "ipython",
    "version": 2
   },
   "file_extension": ".py",
   "mimetype": "text/x-python",
   "name": "python",
   "nbconvert_exporter": "python",
   "pygments_lexer": "ipython2",
   "version": "2.7.6"
  }
 },
 "nbformat": 4,
 "nbformat_minor": 0
}
