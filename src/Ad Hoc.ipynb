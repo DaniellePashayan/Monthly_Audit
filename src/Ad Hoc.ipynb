{
 "cells": [
  {
   "cell_type": "code",
   "execution_count": 1,
   "outputs": [],
   "source": [
    "import pandas as pd\n",
    "import numpy as np\n",
    "\n",
    "inputs = 'C:/Users/dpashayan/PycharmProjects/Monthly_Audit/references/files/NonCodify/12 - December 2022 Combined Inputs.xlsx'\n",
    "outputs = 'C:/Users/dpashayan/PycharmProjects/Monthly_Audit/references/files/NonCodify/12 - December 2022 - Combined Outputs.xlsx'\n",
    "pics = 'C:/Users/dpashayan/PycharmProjects/Monthly_Audit/references/files/12 - December 2022 All PICs.txt'\n",
    "shs = 'C:/Users/dpashayan/PycharmProjects/Monthly_Audit/references/files/Sutherland.xlsx'\n",
    "\n",
    "inputs = pd.read_excel(inputs, engine='openpyxl')\n",
    "outputs = pd.read_excel(outputs, engine='openpyxl')\n",
    "shs = pd.read_excel(shs, engine = 'openpyxl')\n",
    "pics = pd.read_csv(pics, sep = '\\t', header=None)\n",
    "pics.drop(columns=[1,2,3,4], inplace=True)\n",
    "pics.columns = ['Invoice', 'Post Date', 'Code']\n",
    "pics['Post Date'] = pd.to_datetime(pics['Post Date'])\n",
    "pic_desc = pd.read_excel('C:/Users/dpashayan/PycharmProjects/Monthly_Audit/references/Dictionary 6 - RPA Only '\n",
    "                         'Rejections.xlsx', engine='openpyxl')\n",
    "pics = pics.merge(pic_desc, how='left')\n",
    "pics = pics[pics['Bot Name'].str.contains('Bundling')]\n",
    "df = pd.merge(inputs, shs, how='left',\n",
    "              left_on = ['INVNUM', 'File Date', 'SHS Name'],\n",
    "              right_on=['INVNUM', 'BOTRequestDate', 'BotName'])\n",
    "df = pd.merge(df, pics, how='left',\n",
    "              left_on = ['INVNUM', 'LastModifiedDate'],\n",
    "              right_on = ['Invoice', 'Post Date'])"
   ],
   "metadata": {
    "collapsed": false
   }
  },
  {
   "cell_type": "code",
   "execution_count": 2,
   "outputs": [],
   "source": [
    "outputs['Process'] = outputs['Process'].str.strip()\n",
    "df = pd.merge(df, outputs, how='left',\n",
    "              left_on = ['INVNUM', 'File Date', 'Coding Tool'],\n",
    "              right_on = ['Invoice', 'File Date', 'Process'])\n",
    "df.drop(columns=['SHS Name', 'Invoice_x', 'Bot Type', 'Bot Name', 'Invoice_y', 'Process'], inplace=True)"
   ],
   "metadata": {
    "collapsed": false
   }
  },
  {
   "cell_type": "code",
   "execution_count": 3,
   "outputs": [],
   "source": [
    "inputs = ''\n",
    "outputs = ''\n",
    "shs = ''\n",
    "pic_desc = ''\n",
    "pics = ''\n",
    "data = df.copy()\n",
    "df = ''"
   ],
   "metadata": {
    "collapsed": false
   }
  },
  {
   "cell_type": "code",
   "execution_count": 4,
   "outputs": [],
   "source": [
    "from sklearn.preprocessing import LabelEncoder\n",
    "import joblib\n",
    "\n",
    "le_payer = LabelEncoder()\n",
    "le_coding_tool = LabelEncoder()\n",
    "le_shs_status = LabelEncoder()\n",
    "le_pic_desc = LabelEncoder()\n",
    "le_status = LabelEncoder()\n",
    "\n",
    "model = joblib.load('C:/Users/dpashayan/PycharmProjects/Monthly_Audit/references/ML Training/models/noncodify_audit_status.joblib')\n",
    "\n",
    "le_status.classes_ = np.load('C:/Users/dpashayan/PycharmProjects/Monthly_Audit/references/ML Training/status_classes.npy', allow_pickle = True)\n",
    "le_pic_desc.classes_ = np.load('C:/Users/dpashayan/PycharmProjects/Monthly_Audit/references/ML Training/pic_desc_classes'\n",
    "                       '.npy', allow_pickle = True)\n",
    "le_coding_tool.classes_ = np.load('C:/Users/dpashayan/PycharmProjects/Monthly_Audit/references/ML Training/coding_tool_classes.npy', allow_pickle = True)\n",
    "le_shs_status.classes_ = np.load('C:/Users/dpashayan/PycharmProjects/Monthly_Audit/references/ML Training/shs_status_classes.npy', allow_pickle = True)\n",
    "le_payer.classes_ = np.load('C:/Users/dpashayan/PycharmProjects/Monthly_Audit/references/ML Training/payer_classes.npy',\n",
    "                            allow_pickle = True)"
   ],
   "metadata": {
    "collapsed": false
   }
  },
  {
   "cell_type": "code",
   "execution_count": 5,
   "outputs": [],
   "source": [
    "df = data[['ACK', 'Form Letter', 'Proof']]\n",
    "df = df.rename({'Proof': 'Proofs'}, axis='columns')\n",
    "df = df.fillna(0)\n",
    "data = data.fillna('0').astype('str')\n",
    "\n",
    "df['ACK'] = df['ACK'].astype('int64')\n",
    "df['Form Letter'] = df['Form Letter'].astype('int64')\n",
    "df['Proofs'] = df['Proofs'].astype('int64')"
   ],
   "metadata": {
    "collapsed": false
   }
  },
  {
   "cell_type": "code",
   "execution_count": 6,
   "outputs": [],
   "source": [
    "df['payer_n'] = le_payer.transform(data['PAYER'])\n",
    "df['coding_tool_n'] = le_coding_tool.transform(data['Coding Tool'])\n",
    "df['shs_status_n'] = le_shs_status.transform(data['RetrievalStatus'])\n",
    "df['pic_desc_n'] = le_pic_desc.transform(data['Name'])"
   ],
   "metadata": {
    "collapsed": false
   }
  },
  {
   "cell_type": "code",
   "execution_count": 7,
   "outputs": [],
   "source": [
    "data['Status'] = le_status.inverse_transform(model.predict(df))"
   ],
   "metadata": {
    "collapsed": false
   }
  },
  {
   "cell_type": "code",
   "execution_count": 8,
   "outputs": [],
   "source": [
    "data.to_excel('C:/Users/dpashayan/PycharmProjects/Monthly_Audit/references/files/NonCodify/12 - December 2022 Monthly Summary.xlsx')"
   ],
   "metadata": {
    "collapsed": false
   }
  },
  {
   "cell_type": "code",
   "execution_count": null,
   "outputs": [],
   "source": [],
   "metadata": {
    "collapsed": false
   }
  }
 ],
 "metadata": {
  "kernelspec": {
   "display_name": "Python 3",
   "language": "python",
   "name": "python3"
  },
  "language_info": {
   "codemirror_mode": {
    "name": "ipython",
    "version": 2
   },
   "file_extension": ".py",
   "mimetype": "text/x-python",
   "name": "python",
   "nbconvert_exporter": "python",
   "pygments_lexer": "ipython2",
   "version": "2.7.6"
  }
 },
 "nbformat": 4,
 "nbformat_minor": 0
}
